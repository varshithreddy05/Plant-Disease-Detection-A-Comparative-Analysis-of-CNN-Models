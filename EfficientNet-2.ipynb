{
  "cells": [
    {
      "cell_type": "code",
      "execution_count": 3,
      "metadata": {
        "id": "POVYQfkT8rcj"
      },
      "outputs": [],
      "source": [
        "import tensorflow as tf\n",
        "import matplotlib.pyplot as plt\n",
        "import pandas as pd\n",
        "import seaborn as sns"
      ]
    },
    {
      "cell_type": "code",
      "execution_count": null,
      "metadata": {},
      "outputs": [],
      "source": []
    },
    {
      "cell_type": "code",
      "execution_count": 4,
      "metadata": {
        "colab": {
          "base_uri": "https://localhost:8080/"
        },
        "id": "hUYE36Ij9USr",
        "outputId": "44bff23e-4992-4aa9-cda1-69d730c40387"
      },
      "outputs": [
        {
          "name": "stdout",
          "output_type": "stream",
          "text": [
            "Drive already mounted at /content/drive; to attempt to forcibly remount, call drive.mount(\"/content/drive\", force_remount=True).\n"
          ]
        }
      ],
      "source": [
        "from google.colab import drive\n",
        "# Mount Google Drive\n",
        "drive.mount('/content/drive')"
      ]
    },
    {
      "cell_type": "code",
      "execution_count": 5,
      "metadata": {
        "id": "dZ7d6b6n9ZkF"
      },
      "outputs": [],
      "source": [
        "# Define the path to the ZIP file in Google Drive\n",
        "zip_path = 'https://drive.google.com/file/d/1YvdQ0lsa5aqWB9OaLETU4oAfSDJckp5y/view?usp=sharing'  # Replace with the actual path to your ZIP file"
      ]
    },
    {
      "cell_type": "code",
      "execution_count": 7,
      "metadata": {
        "colab": {
          "base_uri": "https://localhost:8080/"
        },
        "id": "8jKs6fKX9bYk",
        "outputId": "ac682421-fd56-45ae-84f3-c5cdcc3560b2"
      },
      "outputs": [
        {
          "name": "stderr",
          "output_type": "stream",
          "text": [
            "Downloading...\n",
            "From (original): https://drive.google.com/uc?export=download&id=1_5G3Cz0WQtZeTxzsq5lrTUfEnNy78WeY\n",
            "From (redirected): https://drive.google.com/uc?export=download&id=1_5G3Cz0WQtZeTxzsq5lrTUfEnNy78WeY&confirm=t&uuid=e13107c7-fbe3-4a23-b74d-f012c8811332\n",
            "To: /content/plant.zip\n",
            "\n",
            "  0%|          | 0.00/1.49G [00:00<?, ?B/s]\u001b[A\n",
            "  0%|          | 1.05M/1.49G [00:00<02:36, 9.48MB/s]\u001b[A\n",
            "  1%|          | 8.91M/1.49G [00:00<00:34, 43.4MB/s]\u001b[A\n",
            "  1%|          | 17.3M/1.49G [00:00<00:27, 52.8MB/s]\u001b[A\n",
            "  2%|▏         | 29.4M/1.49G [00:00<00:20, 72.7MB/s]\u001b[A\n",
            "  2%|▏         | 36.7M/1.49G [00:00<00:23, 61.4MB/s]\u001b[A\n",
            "  3%|▎         | 43.5M/1.49G [00:00<00:25, 57.1MB/s]\u001b[A\n",
            "  4%|▎         | 54.5M/1.49G [00:00<00:20, 70.1MB/s]\u001b[A\n",
            "  4%|▍         | 62.4M/1.49G [00:00<00:20, 70.1MB/s]\u001b[A\n",
            "  5%|▌         | 74.4M/1.49G [00:01<00:16, 83.6MB/s]\u001b[A\n",
            "  6%|▌         | 84.4M/1.49G [00:01<00:18, 77.7MB/s]\u001b[A\n",
            "  6%|▋         | 93.8M/1.49G [00:01<00:16, 82.0MB/s]\u001b[A\n",
            "  7%|▋         | 104M/1.49G [00:01<00:15, 86.7MB/s] \u001b[A\n",
            "  8%|▊         | 113M/1.49G [00:01<00:16, 85.8MB/s]\u001b[A\n",
            "  8%|▊         | 126M/1.49G [00:01<00:15, 89.7MB/s]\u001b[A\n",
            "  9%|▉         | 138M/1.49G [00:01<00:14, 95.2MB/s]\u001b[A\n",
            " 10%|█         | 149M/1.49G [00:01<00:13, 97.7MB/s]\u001b[A\n",
            " 11%|█         | 159M/1.49G [00:02<00:13, 99.1MB/s]\u001b[A\n",
            " 12%|█▏        | 172M/1.49G [00:02<00:12, 104MB/s] \u001b[A\n",
            " 13%|█▎        | 187M/1.49G [00:02<00:11, 117MB/s]\u001b[A\n",
            " 14%|█▎        | 202M/1.49G [00:02<00:11, 116MB/s]\u001b[A\n",
            " 15%|█▍        | 217M/1.49G [00:02<00:10, 125MB/s]\u001b[A\n",
            " 16%|█▌        | 232M/1.49G [00:02<00:09, 132MB/s]\u001b[A\n",
            " 17%|█▋        | 246M/1.49G [00:02<00:09, 133MB/s]\u001b[A\n",
            " 18%|█▊        | 261M/1.49G [00:02<00:10, 114MB/s]\u001b[A\n",
            " 19%|█▊        | 276M/1.49G [00:02<00:09, 122MB/s]\u001b[A\n",
            " 20%|█▉        | 291M/1.49G [00:03<00:09, 130MB/s]\u001b[A\n",
            " 20%|██        | 305M/1.49G [00:03<00:10, 115MB/s]\u001b[A\n",
            " 21%|██▏       | 317M/1.49G [00:03<00:09, 118MB/s]\u001b[A\n",
            " 22%|██▏       | 330M/1.49G [00:03<00:09, 121MB/s]\u001b[A\n",
            " 23%|██▎       | 344M/1.49G [00:03<00:10, 109MB/s]\u001b[A\n",
            " 24%|██▍       | 360M/1.49G [00:03<00:09, 119MB/s]\u001b[A\n",
            " 25%|██▌       | 375M/1.49G [00:03<00:08, 127MB/s]\u001b[A\n",
            " 26%|██▌       | 390M/1.49G [00:03<00:08, 132MB/s]\u001b[A\n",
            " 27%|██▋       | 406M/1.49G [00:03<00:07, 138MB/s]\u001b[A\n",
            " 28%|██▊       | 420M/1.49G [00:04<00:09, 115MB/s]\u001b[A\n",
            " 29%|██▉       | 435M/1.49G [00:04<00:08, 124MB/s]\u001b[A\n",
            " 30%|███       | 449M/1.49G [00:04<00:08, 126MB/s]\u001b[A\n",
            " 31%|███       | 464M/1.49G [00:04<00:07, 133MB/s]\u001b[A\n",
            " 32%|███▏      | 479M/1.49G [00:04<00:07, 137MB/s]\u001b[A\n",
            " 33%|███▎      | 494M/1.49G [00:04<00:07, 140MB/s]\u001b[A\n",
            " 34%|███▍      | 510M/1.49G [00:04<00:06, 142MB/s]\u001b[A\n",
            " 35%|███▌      | 525M/1.49G [00:04<00:06, 144MB/s]\u001b[A\n",
            " 36%|███▋      | 541M/1.49G [00:04<00:06, 146MB/s]\u001b[A\n",
            " 37%|███▋      | 556M/1.49G [00:05<00:06, 147MB/s]\u001b[A\n",
            " 38%|███▊      | 571M/1.49G [00:05<00:06, 148MB/s]\u001b[A\n",
            " 39%|███▉      | 586M/1.49G [00:05<00:06, 147MB/s]\u001b[A\n",
            " 40%|████      | 601M/1.49G [00:05<00:06, 147MB/s]\u001b[A\n",
            " 41%|████▏     | 617M/1.49G [00:05<00:05, 148MB/s]\u001b[A\n",
            " 42%|████▏     | 632M/1.49G [00:05<00:05, 148MB/s]\u001b[A\n",
            " 43%|████▎     | 647M/1.49G [00:05<00:05, 149MB/s]\u001b[A\n",
            " 45%|████▍     | 662M/1.49G [00:05<00:05, 149MB/s]\u001b[A\n",
            " 46%|████▌     | 677M/1.49G [00:05<00:05, 149MB/s]\u001b[A\n",
            " 47%|████▋     | 693M/1.49G [00:05<00:05, 142MB/s]\u001b[A\n",
            " 48%|████▊     | 707M/1.49G [00:06<00:05, 135MB/s]\u001b[A\n",
            " 49%|████▊     | 721M/1.49G [00:06<00:05, 137MB/s]\u001b[A\n",
            " 49%|████▉     | 736M/1.49G [00:06<00:05, 135MB/s]\u001b[A\n",
            " 50%|█████     | 751M/1.49G [00:06<00:05, 139MB/s]\u001b[A\n",
            " 51%|█████▏    | 766M/1.49G [00:06<00:05, 142MB/s]\u001b[A\n",
            " 52%|█████▏    | 781M/1.49G [00:06<00:04, 143MB/s]\u001b[A\n",
            " 54%|█████▎    | 796M/1.49G [00:06<00:04, 145MB/s]\u001b[A\n",
            " 55%|█████▍    | 811M/1.49G [00:06<00:04, 146MB/s]\u001b[A\n",
            " 50%|█████     | 747M/1.49G [00:19<00:04, 148MB/s]\n",
            " 57%|█████▋    | 841M/1.49G [00:07<00:04, 148MB/s]\u001b[A\n",
            " 58%|█████▊    | 857M/1.49G [00:07<00:04, 148MB/s]\u001b[A\n",
            " 59%|█████▊    | 872M/1.49G [00:07<00:04, 148MB/s]\u001b[A\n",
            " 60%|█████▉    | 887M/1.49G [00:07<00:04, 149MB/s]\u001b[A\n",
            " 61%|██████    | 902M/1.49G [00:07<00:03, 149MB/s]\u001b[A\n",
            " 62%|██████▏   | 918M/1.49G [00:07<00:03, 149MB/s]\u001b[A\n",
            " 63%|██████▎   | 933M/1.49G [00:07<00:03, 149MB/s]\u001b[A\n",
            " 64%|██████▎   | 948M/1.49G [00:08<00:14, 36.2MB/s]\u001b[A\n",
            " 64%|██████▍   | 959M/1.49G [00:10<00:32, 16.3MB/s]\u001b[A\n",
            " 65%|██████▌   | 974M/1.49G [00:10<00:24, 21.3MB/s]\u001b[A\n",
            " 66%|██████▌   | 981M/1.49G [00:11<00:20, 24.1MB/s]\u001b[A\n",
            " 66%|██████▋   | 988M/1.49G [00:11<00:19, 25.9MB/s]\u001b[A\n",
            " 67%|██████▋   | 997M/1.49G [00:11<00:15, 31.2MB/s]\u001b[A\n",
            " 68%|██████▊   | 1.01G/1.49G [00:11<00:12, 38.6MB/s]\u001b[A\n",
            " 68%|██████▊   | 1.01G/1.49G [00:11<00:11, 42.6MB/s]\u001b[A\n",
            " 69%|██████▊   | 1.02G/1.49G [00:11<00:10, 43.4MB/s]\u001b[A\n",
            " 69%|██████▉   | 1.03G/1.49G [00:11<00:09, 50.5MB/s]\u001b[A\n",
            " 70%|██████▉   | 1.04G/1.49G [00:12<00:10, 42.2MB/s]\u001b[A\n",
            " 70%|███████   | 1.04G/1.49G [00:12<00:09, 45.8MB/s]\u001b[A\n",
            " 71%|███████   | 1.05G/1.49G [00:12<00:09, 46.9MB/s]\u001b[A\n",
            " 71%|███████   | 1.06G/1.49G [00:12<00:08, 51.3MB/s]\u001b[A\n",
            " 72%|███████▏  | 1.07G/1.49G [00:12<00:06, 62.0MB/s]\u001b[A\n",
            " 72%|███████▏  | 1.08G/1.49G [00:12<00:05, 69.7MB/s]\u001b[A\n",
            " 73%|███████▎  | 1.09G/1.49G [00:12<00:05, 75.6MB/s]\u001b[A\n",
            " 74%|███████▍  | 1.10G/1.49G [00:12<00:04, 85.5MB/s]\u001b[A\n",
            " 74%|███████▍  | 1.11G/1.49G [00:12<00:05, 73.9MB/s]\u001b[A\n",
            " 76%|███████▌  | 1.12G/1.49G [00:13<00:03, 92.1MB/s]\u001b[A\n",
            " 76%|███████▌  | 1.13G/1.49G [00:13<00:04, 80.5MB/s]\u001b[A\n",
            " 77%|███████▋  | 1.14G/1.49G [00:13<00:05, 62.1MB/s]\u001b[A\n",
            " 77%|███████▋  | 1.15G/1.49G [00:13<00:04, 70.8MB/s]\u001b[A\n",
            " 78%|███████▊  | 1.17G/1.49G [00:13<00:03, 82.8MB/s]\u001b[A\n",
            " 79%|███████▉  | 1.17G/1.49G [00:13<00:03, 78.9MB/s]\u001b[A\n",
            " 80%|████████  | 1.19G/1.49G [00:13<00:03, 96.2MB/s]\u001b[A\n",
            " 81%|████████  | 1.20G/1.49G [00:14<00:02, 102MB/s] \u001b[A\n",
            " 82%|████████▏ | 1.21G/1.49G [00:14<00:02, 102MB/s]\u001b[A\n",
            " 82%|████████▏ | 1.23G/1.49G [00:14<00:02, 105MB/s]\u001b[A\n",
            " 83%|████████▎ | 1.24G/1.49G [00:14<00:02, 117MB/s]\u001b[A\n",
            " 84%|████████▍ | 1.26G/1.49G [00:14<00:01, 127MB/s]\u001b[A\n",
            " 85%|████████▌ | 1.27G/1.49G [00:14<00:01, 132MB/s]\u001b[A\n",
            " 86%|████████▋ | 1.28G/1.49G [00:14<00:01, 130MB/s]\u001b[A\n",
            " 87%|████████▋ | 1.30G/1.49G [00:14<00:01, 131MB/s]\u001b[A\n",
            " 88%|████████▊ | 1.31G/1.49G [00:14<00:01, 136MB/s]\u001b[A\n",
            " 89%|████████▉ | 1.33G/1.49G [00:15<00:01, 127MB/s]\u001b[A\n",
            " 90%|█████████ | 1.34G/1.49G [00:15<00:01, 133MB/s]\u001b[A\n",
            " 91%|█████████ | 1.36G/1.49G [00:15<00:01, 129MB/s]\u001b[A\n",
            " 92%|█████████▏| 1.37G/1.49G [00:16<00:03, 32.0MB/s]\u001b[A\n",
            " 93%|█████████▎| 1.39G/1.49G [00:16<00:02, 47.4MB/s]\u001b[A\n",
            " 94%|█████████▍| 1.40G/1.49G [00:16<00:01, 49.6MB/s]\u001b[A\n",
            " 95%|█████████▍| 1.41G/1.49G [00:16<00:01, 54.4MB/s]\u001b[A\n",
            " 96%|█████████▌| 1.42G/1.49G [00:17<00:01, 59.5MB/s]\u001b[A\n",
            " 96%|█████████▋| 1.43G/1.49G [00:17<00:00, 62.8MB/s]\u001b[A\n",
            " 97%|█████████▋| 1.45G/1.49G [00:17<00:00, 71.5MB/s]\u001b[A\n",
            " 98%|█████████▊| 1.46G/1.49G [00:17<00:00, 79.0MB/s]\u001b[A\n",
            " 99%|█████████▊| 1.47G/1.49G [00:17<00:00, 76.7MB/s]\u001b[A\n",
            "100%|██████████| 1.49G/1.49G [00:17<00:00, 84.3MB/s]\n"
          ]
        },
        {
          "data": {
            "text/plain": [
              "['Plant_Disease_Dataset', '__MACOSX']"
            ]
          },
          "execution_count": 7,
          "metadata": {},
          "output_type": "execute_result"
        }
      ],
      "source": [
        "import zipfile\n",
        "import os\n",
        "import gdown\n",
        "\n",
        "# Step 1: Download the file from Google Drive\n",
        "# Replace the part after 'id=' in the URL with the actual file ID.\n",
        "file_id = '1_5G3Cz0WQtZeTxzsq5lrTUfEnNy78WeY'\n",
        "zip_file_path = '/content/plant.zip'\n",
        "\n",
        "# Downloading the file using gdown\n",
        "gdown.download(f'https://drive.google.com/uc?export=download&id={file_id}', zip_file_path, quiet=False)\n",
        "\n",
        "# Step 2: Extract the zip file\n",
        "extract_dir = '/content/plant'\n",
        "\n",
        "# Create the directory if it doesn't exist\n",
        "os.makedirs(extract_dir, exist_ok=True)\n",
        "\n",
        "# Unzipping the file\n",
        "with zipfile.ZipFile(zip_file_path, 'r') as zip_ref:\n",
        "    zip_ref.extractall(extract_dir)\n",
        "\n",
        "# Verify extracted files\n",
        "os.listdir(extract_dir)"
      ]
    },
    {
      "cell_type": "code",
      "execution_count": 8,
      "metadata": {
        "colab": {
          "base_uri": "https://localhost:8080/"
        },
        "id": "x1WY6HLK9dnB",
        "outputId": "4a0444a1-7ebb-4ebe-e90a-806af05815c2"
      },
      "outputs": [
        {
          "name": "stdout",
          "output_type": "stream",
          "text": [
            "Found 70295 files belonging to 38 classes.\n"
          ]
        }
      ],
      "source": [
        "# Create training and validation sets\n",
        "training_set = tf.keras.utils.image_dataset_from_directory(\n",
        "    'train',\n",
        "    labels=\"inferred\",\n",
        "    label_mode=\"categorical\",\n",
        "    image_size=(224, 224),\n",
        "    batch_size=32,\n",
        "    shuffle=True\n",
        ")"
      ]
    },
    {
      "cell_type": "code",
      "execution_count": 9,
      "metadata": {
        "colab": {
          "base_uri": "https://localhost:8080/"
        },
        "id": "rU1LWBe29hoD",
        "outputId": "4e9b7fe5-e12d-43bc-a7e0-fc11dd79e54d"
      },
      "outputs": [
        {
          "name": "stdout",
          "output_type": "stream",
          "text": [
            "Found 17572 files belonging to 38 classes.\n"
          ]
        }
      ],
      "source": [
        "validation_set = tf.keras.utils.image_dataset_from_directory(\n",
        "    'valid',\n",
        "    labels=\"inferred\",\n",
        "    label_mode=\"categorical\",\n",
        "    image_size=(224, 224),\n",
        "    batch_size=32,\n",
        "    shuffle=True\n",
        ")"
      ]
    },
    {
      "cell_type": "code",
      "execution_count": 10,
      "metadata": {
        "id": "2a4O5E6-9kJX"
      },
      "outputs": [],
      "source": [
        "# Load the EfficientNet model with pretrained weights\n",
        "base_model = tf.keras.applications.EfficientNetB0(\n",
        "    input_shape=(224, 224, 3),\n",
        "    include_top=False,\n",
        "    weights='imagenet'\n",
        ")\n",
        "base_model.trainable = False  # Freeze base model layers"
      ]
    },
    {
      "cell_type": "code",
      "execution_count": 11,
      "metadata": {
        "id": "lUhJFSJa9ubF"
      },
      "outputs": [],
      "source": [
        "# Add custom classification layers on top\n",
        "global_average_layer = tf.keras.layers.GlobalAveragePooling2D()\n",
        "dense_layer = tf.keras.layers.Dense(1024, activation='relu')\n",
        "dropout_layer = tf.keras.layers.Dropout(0.4)\n",
        "output_layer = tf.keras.layers.Dense(38, activation='softmax')  # 38 classes"
      ]
    },
    {
      "cell_type": "code",
      "execution_count": 12,
      "metadata": {
        "id": "6_LwMJiJ9zlw"
      },
      "outputs": [],
      "source": [
        "# Build the model\n",
        "inputs = tf.keras.Input(shape=(224, 224, 3))\n",
        "x = base_model(inputs, training=False)\n",
        "x = global_average_layer(x)\n",
        "x = dense_layer(x)\n",
        "x = dropout_layer(x)\n",
        "outputs = output_layer(x)\n",
        "model = tf.keras.Model(inputs, outputs)"
      ]
    },
    {
      "cell_type": "code",
      "execution_count": 13,
      "metadata": {
        "id": "dHHzqyQ4920T"
      },
      "outputs": [],
      "source": [
        "# Compile the model\n",
        "model.compile(\n",
        "    optimizer=tf.keras.optimizers.Adam(learning_rate=0.0001),\n",
        "    loss='categorical_crossentropy',\n",
        "    metrics=['accuracy']\n",
        ")"
      ]
    },
    {
      "cell_type": "code",
      "execution_count": 14,
      "metadata": {
        "colab": {
          "base_uri": "https://localhost:8080/",
          "height": 337
        },
        "id": "J4BH45q5966T",
        "outputId": "e6d98ff1-7c52-4c0e-b966-28fc12b42569"
      },
      "outputs": [
        {
          "data": {
            "text/html": [
              "<pre style=\"white-space:pre;overflow-x:auto;line-height:normal;font-family:Menlo,'DejaVu Sans Mono',consolas,'Courier New',monospace\"><span style=\"font-weight: bold\">Model: \"functional\"</span>\n",
              "</pre>\n"
            ],
            "text/plain": [
              "\u001b[1mModel: \"functional\"\u001b[0m\n"
            ]
          },
          "metadata": {},
          "output_type": "display_data"
        },
        {
          "data": {
            "text/html": [
              "<pre style=\"white-space:pre;overflow-x:auto;line-height:normal;font-family:Menlo,'DejaVu Sans Mono',consolas,'Courier New',monospace\">┏━━━━━━━━━━━━━━━━━━━━━━━━━━━━━━━━━━━━━━┳━━━━━━━━━━━━━━━━━━━━━━━━━━━━━┳━━━━━━━━━━━━━━━━━┓\n",
              "┃<span style=\"font-weight: bold\"> Layer (type)                         </span>┃<span style=\"font-weight: bold\"> Output Shape                </span>┃<span style=\"font-weight: bold\">         Param # </span>┃\n",
              "┡━━━━━━━━━━━━━━━━━━━━━━━━━━━━━━━━━━━━━━╇━━━━━━━━━━━━━━━━━━━━━━━━━━━━━╇━━━━━━━━━━━━━━━━━┩\n",
              "│ input_layer_1 (<span style=\"color: #0087ff; text-decoration-color: #0087ff\">InputLayer</span>)           │ (<span style=\"color: #00d7ff; text-decoration-color: #00d7ff\">None</span>, <span style=\"color: #00af00; text-decoration-color: #00af00\">224</span>, <span style=\"color: #00af00; text-decoration-color: #00af00\">224</span>, <span style=\"color: #00af00; text-decoration-color: #00af00\">3</span>)         │               <span style=\"color: #00af00; text-decoration-color: #00af00\">0</span> │\n",
              "├──────────────────────────────────────┼─────────────────────────────┼─────────────────┤\n",
              "│ efficientnetb0 (<span style=\"color: #0087ff; text-decoration-color: #0087ff\">Functional</span>)          │ (<span style=\"color: #00d7ff; text-decoration-color: #00d7ff\">None</span>, <span style=\"color: #00af00; text-decoration-color: #00af00\">7</span>, <span style=\"color: #00af00; text-decoration-color: #00af00\">7</span>, <span style=\"color: #00af00; text-decoration-color: #00af00\">1280</span>)          │       <span style=\"color: #00af00; text-decoration-color: #00af00\">4,049,571</span> │\n",
              "├──────────────────────────────────────┼─────────────────────────────┼─────────────────┤\n",
              "│ global_average_pooling2d             │ (<span style=\"color: #00d7ff; text-decoration-color: #00d7ff\">None</span>, <span style=\"color: #00af00; text-decoration-color: #00af00\">1280</span>)                │               <span style=\"color: #00af00; text-decoration-color: #00af00\">0</span> │\n",
              "│ (<span style=\"color: #0087ff; text-decoration-color: #0087ff\">GlobalAveragePooling2D</span>)             │                             │                 │\n",
              "├──────────────────────────────────────┼─────────────────────────────┼─────────────────┤\n",
              "│ dense (<span style=\"color: #0087ff; text-decoration-color: #0087ff\">Dense</span>)                        │ (<span style=\"color: #00d7ff; text-decoration-color: #00d7ff\">None</span>, <span style=\"color: #00af00; text-decoration-color: #00af00\">1024</span>)                │       <span style=\"color: #00af00; text-decoration-color: #00af00\">1,311,744</span> │\n",
              "├──────────────────────────────────────┼─────────────────────────────┼─────────────────┤\n",
              "│ dropout (<span style=\"color: #0087ff; text-decoration-color: #0087ff\">Dropout</span>)                    │ (<span style=\"color: #00d7ff; text-decoration-color: #00d7ff\">None</span>, <span style=\"color: #00af00; text-decoration-color: #00af00\">1024</span>)                │               <span style=\"color: #00af00; text-decoration-color: #00af00\">0</span> │\n",
              "├──────────────────────────────────────┼─────────────────────────────┼─────────────────┤\n",
              "│ dense_1 (<span style=\"color: #0087ff; text-decoration-color: #0087ff\">Dense</span>)                      │ (<span style=\"color: #00d7ff; text-decoration-color: #00d7ff\">None</span>, <span style=\"color: #00af00; text-decoration-color: #00af00\">38</span>)                  │          <span style=\"color: #00af00; text-decoration-color: #00af00\">38,950</span> │\n",
              "└──────────────────────────────────────┴─────────────────────────────┴─────────────────┘\n",
              "</pre>\n"
            ],
            "text/plain": [
              "┏━━━━━━━━━━━━━━━━━━━━━━━━━━━━━━━━━━━━━━┳━━━━━━━━━━━━━━━━━━━━━━━━━━━━━┳━━━━━━━━━━━━━━━━━┓\n",
              "┃\u001b[1m \u001b[0m\u001b[1mLayer (type)                        \u001b[0m\u001b[1m \u001b[0m┃\u001b[1m \u001b[0m\u001b[1mOutput Shape               \u001b[0m\u001b[1m \u001b[0m┃\u001b[1m \u001b[0m\u001b[1m        Param #\u001b[0m\u001b[1m \u001b[0m┃\n",
              "┡━━━━━━━━━━━━━━━━━━━━━━━━━━━━━━━━━━━━━━╇━━━━━━━━━━━━━━━━━━━━━━━━━━━━━╇━━━━━━━━━━━━━━━━━┩\n",
              "│ input_layer_1 (\u001b[38;5;33mInputLayer\u001b[0m)           │ (\u001b[38;5;45mNone\u001b[0m, \u001b[38;5;34m224\u001b[0m, \u001b[38;5;34m224\u001b[0m, \u001b[38;5;34m3\u001b[0m)         │               \u001b[38;5;34m0\u001b[0m │\n",
              "├──────────────────────────────────────┼─────────────────────────────┼─────────────────┤\n",
              "│ efficientnetb0 (\u001b[38;5;33mFunctional\u001b[0m)          │ (\u001b[38;5;45mNone\u001b[0m, \u001b[38;5;34m7\u001b[0m, \u001b[38;5;34m7\u001b[0m, \u001b[38;5;34m1280\u001b[0m)          │       \u001b[38;5;34m4,049,571\u001b[0m │\n",
              "├──────────────────────────────────────┼─────────────────────────────┼─────────────────┤\n",
              "│ global_average_pooling2d             │ (\u001b[38;5;45mNone\u001b[0m, \u001b[38;5;34m1280\u001b[0m)                │               \u001b[38;5;34m0\u001b[0m │\n",
              "│ (\u001b[38;5;33mGlobalAveragePooling2D\u001b[0m)             │                             │                 │\n",
              "├──────────────────────────────────────┼─────────────────────────────┼─────────────────┤\n",
              "│ dense (\u001b[38;5;33mDense\u001b[0m)                        │ (\u001b[38;5;45mNone\u001b[0m, \u001b[38;5;34m1024\u001b[0m)                │       \u001b[38;5;34m1,311,744\u001b[0m │\n",
              "├──────────────────────────────────────┼─────────────────────────────┼─────────────────┤\n",
              "│ dropout (\u001b[38;5;33mDropout\u001b[0m)                    │ (\u001b[38;5;45mNone\u001b[0m, \u001b[38;5;34m1024\u001b[0m)                │               \u001b[38;5;34m0\u001b[0m │\n",
              "├──────────────────────────────────────┼─────────────────────────────┼─────────────────┤\n",
              "│ dense_1 (\u001b[38;5;33mDense\u001b[0m)                      │ (\u001b[38;5;45mNone\u001b[0m, \u001b[38;5;34m38\u001b[0m)                  │          \u001b[38;5;34m38,950\u001b[0m │\n",
              "└──────────────────────────────────────┴─────────────────────────────┴─────────────────┘\n"
            ]
          },
          "metadata": {},
          "output_type": "display_data"
        },
        {
          "data": {
            "text/html": [
              "<pre style=\"white-space:pre;overflow-x:auto;line-height:normal;font-family:Menlo,'DejaVu Sans Mono',consolas,'Courier New',monospace\"><span style=\"font-weight: bold\"> Total params: </span><span style=\"color: #00af00; text-decoration-color: #00af00\">5,400,265</span> (20.60 MB)\n",
              "</pre>\n"
            ],
            "text/plain": [
              "\u001b[1m Total params: \u001b[0m\u001b[38;5;34m5,400,265\u001b[0m (20.60 MB)\n"
            ]
          },
          "metadata": {},
          "output_type": "display_data"
        },
        {
          "data": {
            "text/html": [
              "<pre style=\"white-space:pre;overflow-x:auto;line-height:normal;font-family:Menlo,'DejaVu Sans Mono',consolas,'Courier New',monospace\"><span style=\"font-weight: bold\"> Trainable params: </span><span style=\"color: #00af00; text-decoration-color: #00af00\">1,350,694</span> (5.15 MB)\n",
              "</pre>\n"
            ],
            "text/plain": [
              "\u001b[1m Trainable params: \u001b[0m\u001b[38;5;34m1,350,694\u001b[0m (5.15 MB)\n"
            ]
          },
          "metadata": {},
          "output_type": "display_data"
        },
        {
          "data": {
            "text/html": [
              "<pre style=\"white-space:pre;overflow-x:auto;line-height:normal;font-family:Menlo,'DejaVu Sans Mono',consolas,'Courier New',monospace\"><span style=\"font-weight: bold\"> Non-trainable params: </span><span style=\"color: #00af00; text-decoration-color: #00af00\">4,049,571</span> (15.45 MB)\n",
              "</pre>\n"
            ],
            "text/plain": [
              "\u001b[1m Non-trainable params: \u001b[0m\u001b[38;5;34m4,049,571\u001b[0m (15.45 MB)\n"
            ]
          },
          "metadata": {},
          "output_type": "display_data"
        }
      ],
      "source": [
        "# Summary\n",
        "model.summary()"
      ]
    },
    {
      "cell_type": "code",
      "execution_count": 15,
      "metadata": {
        "colab": {
          "base_uri": "https://localhost:8080/"
        },
        "id": "oBtxLydH9-cl",
        "outputId": "3ce05d8e-a699-4656-a820-118e2ca728e3"
      },
      "outputs": [
        {
          "name": "stdout",
          "output_type": "stream",
          "text": [
            "Epoch 1/10\n",
            "\u001b[1m2197/2197\u001b[0m \u001b[32m━━━━━━━━━━━━━━━━━━━━\u001b[0m\u001b[37m\u001b[0m \u001b[1m197s\u001b[0m 78ms/step - accuracy: 0.7093 - loss: 1.2371 - val_accuracy: 0.9500 - val_loss: 0.1936\n",
            "Epoch 2/10\n",
            "\u001b[1m2197/2197\u001b[0m \u001b[32m━━━━━━━━━━━━━━━━━━━━\u001b[0m\u001b[37m\u001b[0m \u001b[1m134s\u001b[0m 54ms/step - accuracy: 0.9363 - loss: 0.2236 - val_accuracy: 0.9601 - val_loss: 0.1309\n",
            "Epoch 3/10\n",
            "\u001b[1m2197/2197\u001b[0m \u001b[32m━━━━━━━━━━━━━━━━━━━━\u001b[0m\u001b[37m\u001b[0m \u001b[1m119s\u001b[0m 54ms/step - accuracy: 0.9550 - loss: 0.1509 - val_accuracy: 0.9720 - val_loss: 0.0977\n",
            "Epoch 4/10\n",
            "\u001b[1m2197/2197\u001b[0m \u001b[32m━━━━━━━━━━━━━━━━━━━━\u001b[0m\u001b[37m\u001b[0m \u001b[1m118s\u001b[0m 54ms/step - accuracy: 0.9644 - loss: 0.1175 - val_accuracy: 0.9747 - val_loss: 0.0833\n",
            "Epoch 5/10\n",
            "\u001b[1m2197/2197\u001b[0m \u001b[32m━━━━━━━━━━━━━━━━━━━━\u001b[0m\u001b[37m\u001b[0m \u001b[1m141s\u001b[0m 53ms/step - accuracy: 0.9706 - loss: 0.0968 - val_accuracy: 0.9757 - val_loss: 0.0749\n",
            "Epoch 6/10\n",
            "\u001b[1m2197/2197\u001b[0m \u001b[32m━━━━━━━━━━━━━━━━━━━━\u001b[0m\u001b[37m\u001b[0m \u001b[1m141s\u001b[0m 53ms/step - accuracy: 0.9753 - loss: 0.0827 - val_accuracy: 0.9799 - val_loss: 0.0650\n",
            "Epoch 7/10\n",
            "\u001b[1m2197/2197\u001b[0m \u001b[32m━━━━━━━━━━━━━━━━━━━━\u001b[0m\u001b[37m\u001b[0m \u001b[1m163s\u001b[0m 62ms/step - accuracy: 0.9783 - loss: 0.0733 - val_accuracy: 0.9785 - val_loss: 0.0653\n",
            "Epoch 8/10\n",
            "\u001b[1m2197/2197\u001b[0m \u001b[32m━━━━━━━━━━━━━━━━━━━━\u001b[0m\u001b[37m\u001b[0m \u001b[1m117s\u001b[0m 53ms/step - accuracy: 0.9810 - loss: 0.0629 - val_accuracy: 0.9836 - val_loss: 0.0528\n",
            "Epoch 9/10\n",
            "\u001b[1m2197/2197\u001b[0m \u001b[32m━━━━━━━━━━━━━━━━━━━━\u001b[0m\u001b[37m\u001b[0m \u001b[1m143s\u001b[0m 54ms/step - accuracy: 0.9822 - loss: 0.0578 - val_accuracy: 0.9840 - val_loss: 0.0503\n",
            "Epoch 10/10\n",
            "\u001b[1m2197/2197\u001b[0m \u001b[32m━━━━━━━━━━━━━━━━━━━━\u001b[0m\u001b[37m\u001b[0m \u001b[1m137s\u001b[0m 62ms/step - accuracy: 0.9837 - loss: 0.0513 - val_accuracy: 0.9842 - val_loss: 0.0474\n"
          ]
        }
      ],
      "source": [
        "# Train the model\n",
        "training_history = model.fit(training_set, validation_data=validation_set, epochs=10)"
      ]
    },
    {
      "cell_type": "code",
      "execution_count": 16,
      "metadata": {
        "colab": {
          "base_uri": "https://localhost:8080/"
        },
        "id": "trKpJsqM-Bok",
        "outputId": "cfd23959-59ef-4821-b1b0-3186e9586c1e"
      },
      "outputs": [
        {
          "name": "stdout",
          "output_type": "stream",
          "text": [
            "\u001b[1m2197/2197\u001b[0m \u001b[32m━━━━━━━━━━━━━━━━━━━━\u001b[0m\u001b[37m\u001b[0m \u001b[1m99s\u001b[0m 45ms/step - accuracy: 0.9924 - loss: 0.0253\n",
            "Training accuracy: 0.9937833547592163\n"
          ]
        }
      ],
      "source": [
        "# Evaluate training and validation accuracy\n",
        "train_loss, train_acc = model.evaluate(training_set)\n",
        "print('Training accuracy:', train_acc)"
      ]
    },
    {
      "cell_type": "code",
      "execution_count": 17,
      "metadata": {
        "colab": {
          "base_uri": "https://localhost:8080/"
        },
        "id": "wi2RHcdz-EYS",
        "outputId": "a50ff0b1-8e2c-4989-fb33-12bcee78d9ea"
      },
      "outputs": [
        {
          "name": "stdout",
          "output_type": "stream",
          "text": [
            "\u001b[1m550/550\u001b[0m \u001b[32m━━━━━━━━━━━━━━━━━━━━\u001b[0m\u001b[37m\u001b[0m \u001b[1m23s\u001b[0m 42ms/step - accuracy: 0.9842 - loss: 0.0495\n",
            "Validation accuracy: 0.9841793775558472\n"
          ]
        }
      ],
      "source": [
        "val_loss, val_acc = model.evaluate(validation_set)\n",
        "print('Validation accuracy:', val_acc)"
      ]
    },
    {
      "cell_type": "code",
      "execution_count": 20,
      "metadata": {
        "colab": {
          "base_uri": "https://localhost:8080/"
        },
        "id": "dxXLZ18BgCdQ",
        "outputId": "946adf18-d249-49c2-d463-ff1a9854eb12"
      },
      "outputs": [
        {
          "name": "stdout",
          "output_type": "stream",
          "text": [
            "Requirement already satisfied: tensorflow in /usr/local/lib/python3.10/dist-packages (2.17.0)\n",
            "Requirement already satisfied: absl-py>=1.0.0 in /usr/local/lib/python3.10/dist-packages (from tensorflow) (1.4.0)\n",
            "Requirement already satisfied: astunparse>=1.6.0 in /usr/local/lib/python3.10/dist-packages (from tensorflow) (1.6.3)\n",
            "Requirement already satisfied: flatbuffers>=24.3.25 in /usr/local/lib/python3.10/dist-packages (from tensorflow) (24.3.25)\n",
            "Requirement already satisfied: gast!=0.5.0,!=0.5.1,!=0.5.2,>=0.2.1 in /usr/local/lib/python3.10/dist-packages (from tensorflow) (0.6.0)\n",
            "Requirement already satisfied: google-pasta>=0.1.1 in /usr/local/lib/python3.10/dist-packages (from tensorflow) (0.2.0)\n",
            "Requirement already satisfied: h5py>=3.10.0 in /usr/local/lib/python3.10/dist-packages (from tensorflow) (3.12.1)\n",
            "Requirement already satisfied: libclang>=13.0.0 in /usr/local/lib/python3.10/dist-packages (from tensorflow) (18.1.1)\n",
            "Requirement already satisfied: ml-dtypes<0.5.0,>=0.3.1 in /usr/local/lib/python3.10/dist-packages (from tensorflow) (0.4.1)\n",
            "Requirement already satisfied: opt-einsum>=2.3.2 in /usr/local/lib/python3.10/dist-packages (from tensorflow) (3.4.0)\n",
            "Requirement already satisfied: packaging in /usr/local/lib/python3.10/dist-packages (from tensorflow) (24.2)\n",
            "Requirement already satisfied: protobuf!=4.21.0,!=4.21.1,!=4.21.2,!=4.21.3,!=4.21.4,!=4.21.5,<5.0.0dev,>=3.20.3 in /usr/local/lib/python3.10/dist-packages (from tensorflow) (4.25.5)\n",
            "Requirement already satisfied: requests<3,>=2.21.0 in /usr/local/lib/python3.10/dist-packages (from tensorflow) (2.32.3)\n",
            "Requirement already satisfied: setuptools in /usr/local/lib/python3.10/dist-packages (from tensorflow) (75.1.0)\n",
            "Requirement already satisfied: six>=1.12.0 in /usr/local/lib/python3.10/dist-packages (from tensorflow) (1.16.0)\n",
            "Requirement already satisfied: termcolor>=1.1.0 in /usr/local/lib/python3.10/dist-packages (from tensorflow) (2.5.0)\n",
            "Requirement already satisfied: typing-extensions>=3.6.6 in /usr/local/lib/python3.10/dist-packages (from tensorflow) (4.12.2)\n",
            "Requirement already satisfied: wrapt>=1.11.0 in /usr/local/lib/python3.10/dist-packages (from tensorflow) (1.16.0)\n",
            "Requirement already satisfied: grpcio<2.0,>=1.24.3 in /usr/local/lib/python3.10/dist-packages (from tensorflow) (1.67.1)\n",
            "Requirement already satisfied: tensorboard<2.18,>=2.17 in /usr/local/lib/python3.10/dist-packages (from tensorflow) (2.17.0)\n",
            "Requirement already satisfied: keras>=3.2.0 in /usr/local/lib/python3.10/dist-packages (from tensorflow) (3.4.1)\n",
            "Requirement already satisfied: tensorflow-io-gcs-filesystem>=0.23.1 in /usr/local/lib/python3.10/dist-packages (from tensorflow) (0.37.1)\n",
            "Requirement already satisfied: numpy<2.0.0,>=1.23.5 in /usr/local/lib/python3.10/dist-packages (from tensorflow) (1.26.4)\n",
            "Requirement already satisfied: wheel<1.0,>=0.23.0 in /usr/local/lib/python3.10/dist-packages (from astunparse>=1.6.0->tensorflow) (0.44.0)\n",
            "Requirement already satisfied: rich in /usr/local/lib/python3.10/dist-packages (from keras>=3.2.0->tensorflow) (13.9.4)\n",
            "Requirement already satisfied: namex in /usr/local/lib/python3.10/dist-packages (from keras>=3.2.0->tensorflow) (0.0.8)\n",
            "Requirement already satisfied: optree in /usr/local/lib/python3.10/dist-packages (from keras>=3.2.0->tensorflow) (0.13.0)\n",
            "Requirement already satisfied: charset-normalizer<4,>=2 in /usr/local/lib/python3.10/dist-packages (from requests<3,>=2.21.0->tensorflow) (3.4.0)\n",
            "Requirement already satisfied: idna<4,>=2.5 in /usr/local/lib/python3.10/dist-packages (from requests<3,>=2.21.0->tensorflow) (3.10)\n",
            "Requirement already satisfied: urllib3<3,>=1.21.1 in /usr/local/lib/python3.10/dist-packages (from requests<3,>=2.21.0->tensorflow) (2.2.3)\n",
            "Requirement already satisfied: certifi>=2017.4.17 in /usr/local/lib/python3.10/dist-packages (from requests<3,>=2.21.0->tensorflow) (2024.8.30)\n",
            "Requirement already satisfied: markdown>=2.6.8 in /usr/local/lib/python3.10/dist-packages (from tensorboard<2.18,>=2.17->tensorflow) (3.7)\n",
            "Requirement already satisfied: tensorboard-data-server<0.8.0,>=0.7.0 in /usr/local/lib/python3.10/dist-packages (from tensorboard<2.18,>=2.17->tensorflow) (0.7.2)\n",
            "Requirement already satisfied: werkzeug>=1.0.1 in /usr/local/lib/python3.10/dist-packages (from tensorboard<2.18,>=2.17->tensorflow) (3.1.3)\n",
            "Requirement already satisfied: MarkupSafe>=2.1.1 in /usr/local/lib/python3.10/dist-packages (from werkzeug>=1.0.1->tensorboard<2.18,>=2.17->tensorflow) (3.0.2)\n",
            "Requirement already satisfied: markdown-it-py>=2.2.0 in /usr/local/lib/python3.10/dist-packages (from rich->keras>=3.2.0->tensorflow) (3.0.0)\n",
            "Requirement already satisfied: pygments<3.0.0,>=2.13.0 in /usr/local/lib/python3.10/dist-packages (from rich->keras>=3.2.0->tensorflow) (2.18.0)\n",
            "Requirement already satisfied: mdurl~=0.1 in /usr/local/lib/python3.10/dist-packages (from markdown-it-py>=2.2.0->rich->keras>=3.2.0->tensorflow) (0.1.2)\n",
            "Requirement already satisfied: matplotlib in /usr/local/lib/python3.10/dist-packages (3.8.0)\n",
            "Requirement already satisfied: contourpy>=1.0.1 in /usr/local/lib/python3.10/dist-packages (from matplotlib) (1.3.0)\n",
            "Requirement already satisfied: cycler>=0.10 in /usr/local/lib/python3.10/dist-packages (from matplotlib) (0.12.1)\n",
            "Requirement already satisfied: fonttools>=4.22.0 in /usr/local/lib/python3.10/dist-packages (from matplotlib) (4.54.1)\n",
            "Requirement already satisfied: kiwisolver>=1.0.1 in /usr/local/lib/python3.10/dist-packages (from matplotlib) (1.4.7)\n",
            "Requirement already satisfied: numpy<2,>=1.21 in /usr/local/lib/python3.10/dist-packages (from matplotlib) (1.26.4)\n",
            "Requirement already satisfied: packaging>=20.0 in /usr/local/lib/python3.10/dist-packages (from matplotlib) (24.2)\n",
            "Requirement already satisfied: pillow>=6.2.0 in /usr/local/lib/python3.10/dist-packages (from matplotlib) (11.0.0)\n",
            "Requirement already satisfied: pyparsing>=2.3.1 in /usr/local/lib/python3.10/dist-packages (from matplotlib) (3.2.0)\n",
            "Requirement already satisfied: python-dateutil>=2.7 in /usr/local/lib/python3.10/dist-packages (from matplotlib) (2.8.2)\n",
            "Requirement already satisfied: six>=1.5 in /usr/local/lib/python3.10/dist-packages (from python-dateutil>=2.7->matplotlib) (1.16.0)\n"
          ]
        }
      ],
      "source": [
        "!pip install tensorflow\n",
        "!pip install matplotlib"
      ]
    },
    {
      "cell_type": "code",
      "execution_count": 21,
      "metadata": {
        "colab": {
          "base_uri": "https://localhost:8080/",
          "height": 730
        },
        "id": "v1F7aLrGeujN",
        "outputId": "458ee75f-39fe-4e44-ea31-15fa88464c1f"
      },
      "outputs": [
        {
          "name": "stdout",
          "output_type": "stream",
          "text": [
            "Found 70295 images belonging to 38 classes.\n",
            "Found 17572 images belonging to 38 classes.\n",
            "Epoch 1/5\n"
          ]
        },
        {
          "name": "stderr",
          "output_type": "stream",
          "text": [
            "/usr/local/lib/python3.10/dist-packages/keras/src/trainers/data_adapters/py_dataset_adapter.py:121: UserWarning: Your `PyDataset` class should call `super().__init__(**kwargs)` in its constructor. `**kwargs` can include `workers`, `use_multiprocessing`, `max_queue_size`. Do not pass these arguments to `fit()`, as they will be ignored.\n",
            "  self._warn_if_super_not_called()\n"
          ]
        },
        {
          "name": "stdout",
          "output_type": "stream",
          "text": [
            "\u001b[1m2197/2197\u001b[0m \u001b[32m━━━━━━━━━━━━━━━━━━━━\u001b[0m\u001b[37m\u001b[0m \u001b[1m454s\u001b[0m 171ms/step - accuracy: 0.0272 - loss: nan - val_accuracy: 0.0271 - val_loss: nan\n",
            "Epoch 2/5\n",
            "\u001b[1m2197/2197\u001b[0m \u001b[32m━━━━━━━━━━━━━━━━━━━━\u001b[0m\u001b[37m\u001b[0m \u001b[1m317s\u001b[0m 144ms/step - accuracy: 0.0268 - loss: nan - val_accuracy: 0.0271 - val_loss: nan\n",
            "Epoch 3/5\n",
            "\u001b[1m2197/2197\u001b[0m \u001b[32m━━━━━━━━━━━━━━━━━━━━\u001b[0m\u001b[37m\u001b[0m \u001b[1m316s\u001b[0m 144ms/step - accuracy: 0.0275 - loss: nan - val_accuracy: 0.0271 - val_loss: nan\n",
            "Epoch 4/5\n",
            "\u001b[1m2197/2197\u001b[0m \u001b[32m━━━━━━━━━━━━━━━━━━━━\u001b[0m\u001b[37m\u001b[0m \u001b[1m322s\u001b[0m 144ms/step - accuracy: 0.0270 - loss: nan - val_accuracy: 0.0271 - val_loss: nan\n",
            "Epoch 5/5\n",
            "\u001b[1m2197/2197\u001b[0m \u001b[32m━━━━━━━━━━━━━━━━━━━━\u001b[0m\u001b[37m\u001b[0m \u001b[1m314s\u001b[0m 143ms/step - accuracy: 0.0277 - loss: nan - val_accuracy: 0.0271 - val_loss: nan\n"
          ]
        },
        {
          "data": {
            "image/png": "[encoded data removed]",
            "text/plain": [
              "<Figure size 640x480 with 1 Axes>"
            ]
          },
          "metadata": {},
          "output_type": "display_data"
        }
      ],
      "source": [
        "import matplotlib.pyplot as plt\n",
        "import tensorflow as tf\n",
        "from tensorflow.keras.applications import EfficientNetB0\n",
        "from tensorflow.keras.preprocessing.image import ImageDataGenerator\n",
        "\n",
        "# Define and compile your EfficientNet model\n",
        "model = EfficientNetB0(weights=None, input_shape=(224, 224, 3), classes=10)\n",
        "model.compile(optimizer='adam', loss='sparse_categorical_crossentropy', metrics=['accuracy'])\n",
        "\n",
        "# Use ImageDataGenerator for training and validation data loading\n",
        "train_datagen = ImageDataGenerator(rescale=1./255)\n",
        "train_set = train_datagen.flow_from_directory('/content/train', target_size=(224, 224), batch_size=32, class_mode='sparse')\n",
        "\n",
        "val_datagen = ImageDataGenerator(rescale=1./255)\n",
        "validation_set = val_datagen.flow_from_directory('/content/valid', target_size=(224, 224), batch_size=32, class_mode='sparse')\n",
        "\n",
        "# Train the model and record the history of accuracy\n",
        "history = model.fit(train_set, epochs=5, validation_data=validation_set)\n",
        "\n",
        "# Plotting the accuracy graph\n",
        "epochs = range(1, len(history.history['accuracy']) + 1)\n",
        "train_accuracy = history.history['accuracy']\n",
        "val_accuracy = history.history['val_accuracy']\n",
        "\n",
        "# Plotting\n",
        "plt.plot(epochs, train_accuracy, label='Train Accuracy', color='blue')\n",
        "plt.plot(epochs, val_accuracy, label='Validation Accuracy', color='green')\n",
        "\n",
        "# Adding labels and title\n",
        "plt.xlabel('Epochs')\n",
        "plt.ylabel('Accuracy')\n",
        "plt.title('EfficientNet - Model Accuracy over Epochs')\n",
        "plt.legend()\n",
        "\n",
        "# Show the plot\n",
        "plt.show()"
      ]
    },
    {
      "cell_type": "code",
      "execution_count": 24,
      "metadata": {
        "colab": {
          "base_uri": "https://localhost:8080/",
          "height": 564
        },
        "id": "Ji_YvTADqwrB",
        "outputId": "caa91ed8-b560-499d-d67b-244ddd30fc9f"
      },
      "outputs": [
        {
          "data": {
            "image/png": "[encoded data removed]",
            "text/plain": [
              "<Figure size 1000x600 with 1 Axes>"
            ]
          },
          "metadata": {},
          "output_type": "display_data"
        }
      ],
      "source": [
        "import matplotlib.pyplot as plt\n",
        "import seaborn as sns\n",
        "\n",
        "# Assuming history is already obtained from model training\n",
        "# Replace these lists with the actual history values\n",
        "epochs = range(1, len(history.history['accuracy']) + 1)\n",
        "train_accuracy = history.history['accuracy']\n",
        "val_accuracy = history.history['val_accuracy']\n",
        "\n",
        "# Plotting with Seaborn\n",
        "plt.figure(figsize=(10, 6))  # Optional: Adjust figure size for better clarity\n",
        "sns.lineplot(x=epochs, y=train_accuracy, label='Train Accuracy', color='blue')\n",
        "sns.lineplot(x=epochs, y=val_accuracy, label='Validation Accuracy', color='green')\n",
        "\n",
        "# Adding labels and title\n",
        "plt.xlabel('Epochs')\n",
        "plt.ylabel('Accuracy')\n",
        "plt.title('EfficientNet - Model Accuracy over Epochs')\n",
        "plt.legend()\n",
        "\n",
        "# Show the plot\n",
        "plt.show()"
      ]
    },
    {
      "cell_type": "code",
      "execution_count": 19,
      "metadata": {
        "id": "-4akZ954-G2r"
      },
      "outputs": [],
      "source": [
        "# Save the trained model\n",
        "model.save('trained_plant_disease_efficientnet_model.keras')"
      ]
    },
    {
      "cell_type": "code",
      "execution_count": 1,
      "metadata": {
        "colab": {
          "base_uri": "https://localhost:8080/",
          "height": 173
        },
        "id": "Tv_3aoxS-Jli",
        "outputId": "4a512436-40ac-4b45-83c1-2656bef52b84"
      },
      "outputs": [
        {
          "ename": "NameError",
          "evalue": "name 'training_history' is not defined",
          "output_type": "error",
          "traceback": [
            "\u001b[0;31m---------------------------------------------------------------------------\u001b[0m",
            "\u001b[0;31mNameError\u001b[0m                                 Traceback (most recent call last)",
            "\u001b[0;32m<ipython-input-1-5e3ac58c41a0>\u001b[0m in \u001b[0;36m<cell line: 3>\u001b[0;34m()\u001b[0m\n\u001b[1;32m      2\u001b[0m \u001b[0;32mimport\u001b[0m \u001b[0mjson\u001b[0m\u001b[0;34m\u001b[0m\u001b[0;34m\u001b[0m\u001b[0m\n\u001b[1;32m      3\u001b[0m \u001b[0;32mwith\u001b[0m \u001b[0mopen\u001b[0m\u001b[0;34m(\u001b[0m\u001b[0;34m'training_hist.json'\u001b[0m\u001b[0;34m,\u001b[0m \u001b[0;34m'w'\u001b[0m\u001b[0;34m)\u001b[0m \u001b[0;32mas\u001b[0m \u001b[0mf\u001b[0m\u001b[0;34m:\u001b[0m\u001b[0;34m\u001b[0m\u001b[0;34m\u001b[0m\u001b[0m\n\u001b[0;32m----> 4\u001b[0;31m     \u001b[0mjson\u001b[0m\u001b[0;34m.\u001b[0m\u001b[0mdump\u001b[0m\u001b[0;34m(\u001b[0m\u001b[0mtraining_history\u001b[0m\u001b[0;34m.\u001b[0m\u001b[0mhistory\u001b[0m\u001b[0;34m,\u001b[0m \u001b[0mf\u001b[0m\u001b[0;34m)\u001b[0m\u001b[0;34m\u001b[0m\u001b[0;34m\u001b[0m\u001b[0m\n\u001b[0m",
            "\u001b[0;31mNameError\u001b[0m: name 'training_history' is not defined"
          ]
        }
      ],
      "source": [
        "# Record training history\n",
        "import json\n",
        "with open('training_hist.json', 'w') as f:\n",
        "    json.dump(training_history.history, f)"
      ]
    },
    {
      "cell_type": "code",
      "execution_count": null,
      "metadata": {
        "id": "4PWS7HDw-Py7"
      },
      "outputs": [],
      "source": [
        "# Plot accuracy history\n",
        "epochs = range(1, 11)\n",
        "plt.plot(epochs, training_history.history['accuracy'], color='red', label='Training Accuracy')\n",
        "plt.plot(epochs, training_history.history['val_accuracy'], color='blue', label='Validation Accuracy')\n",
        "plt.xlabel('No. of Epochs')\n",
        "plt.title('Visualization of Accuracy Result')\n",
        "plt.legend()\n",
        "plt.show()"
      ]
    },
    {
      "cell_type": "code",
      "execution_count": null,
      "metadata": {
        "id": "VzIaIA02-QpA"
      },
      "outputs": [],
      "source": [
        "# Prediction and evaluation\n",
        "class_name = validation_set.class_names\n",
        "test_set = tf.keras.utils.image_dataset_from_directory(\n",
        "    'valid',\n",
        "    labels=\"inferred\",\n",
        "    label_mode=\"categorical\",\n",
        "    image_size=(224, 224),\n",
        "    batch_size=1,\n",
        "    shuffle=False\n",
        ")"
      ]
    },
    {
      "cell_type": "code",
      "execution_count": null,
      "metadata": {
        "id": "gHL94pkF-VlK"
      },
      "outputs": [],
      "source": [
        "y_pred = model.predict(test_set)\n",
        "predicted_categories = tf.argmax(y_pred, axis=1)\n",
        "true_categories = tf.concat([y for x, y in test_set], axis=0)\n",
        "Y_true = tf.argmax(true_categories, axis=1)"
      ]
    },
    {
      "cell_type": "code",
      "execution_count": null,
      "metadata": {
        "id": "2Mf0mPW_-ZVf"
      },
      "outputs": [],
      "source": [
        "# Confusion matrix and classification report\n",
        "from sklearn.metrics import confusion_matrix, classification_report\n",
        "cm = confusion_matrix(Y_true, predicted_categories)\n",
        "print(classification_report(Y_true, predicted_categories, target_names=class_name))\n",
        "\n",
        "plt.figure(figsize=(40, 40))\n",
        "sns.heatmap(cm, annot=True, annot_kws={\"size\": 10})\n",
        "plt.xlabel('Predicted Class', fontsize=20)\n",
        "plt.ylabel('Actual Class', fontsize=20)\n",
        "plt.title('Plant Disease Prediction Confusion Matrix', fontsize=25)\n",
        "plt.show()"
      ]
    }
  ],
  "metadata": {
    "accelerator": "GPU",
    "colab": {
      "gpuType": "T4",
      "provenance": []
    },
    "kernelspec": {
      "display_name": "Python 3",
      "name": "python3"
    },
    "language_info": {
      "name": "python"
    }
  },
  "nbformat": 4,
  "nbformat_minor": 0
}
